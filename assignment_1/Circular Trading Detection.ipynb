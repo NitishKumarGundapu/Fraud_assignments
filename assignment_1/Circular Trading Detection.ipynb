{
  "cells": [
    {
      "cell_type": "markdown",
      "source": [
        "# **Assignment 1: Identify sets of dealers doing circular trading.  Using Node2Vec.** \n",
        "\n",
        "## Submitted by:\n",
        "\n",
        "1. Nitish Kumar Gundapu **AI22MTECH14004** \\\\\n",
        "2. Soumyanetra Pal **AI22MTECH14005** \\\\\n",
        "3. Major Raviraj Deshmukh **AI22MTECH13008** \\\\\n",
        "4. Vishnu Vijay Tiwari **AI22MTECH14003**"
      ],
      "metadata": {
        "id": "jEWDzDpHPfeu"
      }
    },
    {
      "cell_type": "code",
      "execution_count": null,
      "metadata": {
        "colab": {
          "base_uri": "https://localhost:8080/"
        },
        "id": "rMUGb1Q-YdWv",
        "outputId": "5945f7fa-b6d6-40d7-ad0b-bba0cd09390c"
      },
      "outputs": [
        {
          "output_type": "stream",
          "name": "stdout",
          "text": [
            "Looking in indexes: https://pypi.org/simple, https://us-python.pkg.dev/colab-wheels/public/simple/\n",
            "Requirement already satisfied: node2vec in /usr/local/lib/python3.10/dist-packages (0.4.3)\n",
            "Requirement already satisfied: gensim in /usr/local/lib/python3.10/dist-packages (4.3.1)\n",
            "Requirement already satisfied: networkx==3.1 in /usr/local/lib/python3.10/dist-packages (3.1)\n",
            "Requirement already satisfied: tqdm in /usr/local/lib/python3.10/dist-packages (from node2vec) (4.65.0)\n",
            "Requirement already satisfied: numpy in /usr/local/lib/python3.10/dist-packages (from node2vec) (1.22.4)\n",
            "Requirement already satisfied: joblib>=0.13.2 in /usr/local/lib/python3.10/dist-packages (from node2vec) (1.2.0)\n",
            "Requirement already satisfied: scipy>=1.7.0 in /usr/local/lib/python3.10/dist-packages (from gensim) (1.10.1)\n",
            "Requirement already satisfied: smart-open>=1.8.1 in /usr/local/lib/python3.10/dist-packages (from gensim) (6.3.0)\n"
          ]
        }
      ],
      "source": [
        "# Install Required Packages\n",
        "!pip install node2vec gensim networkx==3.1"
      ]
    },
    {
      "cell_type": "markdown",
      "source": [
        "# 1. Import Modules"
      ],
      "metadata": {
        "id": "_YvpWjYNFMEg"
      }
    },
    {
      "cell_type": "code",
      "execution_count": null,
      "metadata": {
        "id": "rW9ZnfFaSxtw"
      },
      "outputs": [],
      "source": [
        "import networkx as nx\n",
        "import pandas as pd\n",
        "import numpy as np\n",
        "from sklearn.decomposition import PCA\n",
        "from node2vec import Node2Vec as n2v\n",
        "import matplotlib.pyplot as plt\n",
        "%matplotlib inline\n",
        "from copy import deepcopy\n",
        "from scipy.spatial.distance import cosine\n",
        "\n",
        "from sklearn.neighbors import NearestNeighbors\n",
        "\n",
        "import warnings\n",
        "warnings.filterwarnings(\"ignore\")"
      ]
    },
    {
      "cell_type": "markdown",
      "source": [
        "# 2. Dataset"
      ],
      "metadata": {
        "id": "Xx1Od7-YFdYA"
      }
    },
    {
      "cell_type": "markdown",
      "source": [
        "2.1 Read Data"
      ],
      "metadata": {
        "id": "rAvdgmwjGdPY"
      }
    },
    {
      "cell_type": "code",
      "execution_count": null,
      "metadata": {
        "id": "QZFYL6BRUe19"
      },
      "outputs": [],
      "source": [
        "df = pd.read_csv('Iron_dealers_data.csv')\n",
        "df1 = np.array(df['Seller ID'],dtype=np.int32)\n",
        "df2 = np.array(df['Buyer ID'],dtype=np.int32)\n",
        "df3 = np.array(df['Value'],dtype=np.int32)\n",
        "df0 = np.ones(len(df1),dtype=np.int32)"
      ]
    },
    {
      "cell_type": "markdown",
      "source": [
        "2.2 Convert data to Graph"
      ],
      "metadata": {
        "id": "H-nGQJk4Gglg"
      }
    },
    {
      "cell_type": "code",
      "execution_count": null,
      "metadata": {
        "id": "e9bKfS9fV0g7"
      },
      "outputs": [],
      "source": [
        "g = nx.MultiDiGraph()\n",
        "df4 = np.array([df1,df2,df3],dtype=np.int32).T\n",
        "g.add_weighted_edges_from(df4)"
      ]
    },
    {
      "cell_type": "markdown",
      "source": [
        "2.3 Graph Deatils of Original Graph"
      ],
      "metadata": {
        "id": "z4SFiQbkHapA"
      }
    },
    {
      "cell_type": "code",
      "execution_count": null,
      "metadata": {
        "id": "EM_DwG48eEcI",
        "colab": {
          "base_uri": "https://localhost:8080/"
        },
        "outputId": "8c654e37-5186-4823-88c9-686b742f17a5"
      },
      "outputs": [
        {
          "output_type": "stream",
          "name": "stdout",
          "text": [
            "MultiDiGraph with 799 nodes and 130535 edges\n"
          ]
        }
      ],
      "source": [
        "print(g)"
      ]
    },
    {
      "cell_type": "markdown",
      "source": [
        "2.4 Converting multi edges between same nodes to one directional edge "
      ],
      "metadata": {
        "id": "IcrjgFHWIB6C"
      }
    },
    {
      "cell_type": "code",
      "execution_count": null,
      "metadata": {
        "id": "9FRvCHJKEXLL"
      },
      "outputs": [],
      "source": [
        "#Converting multi same directional edges to one\n",
        "def get_result_edge(g,a,b):\n",
        "    a,b = float(a),float(b)\n",
        "    try:\n",
        "        res,S = dict(g[a][b]),0\n",
        "        for a in res.values():\n",
        "            S += a['weight']\n",
        "    except:\n",
        "        return 0\n",
        "    return S\n",
        "\n",
        "g2 = nx.DiGraph()\n",
        "for a in g.nodes():\n",
        "    for b in g.nodes():\n",
        "        if a != b:\n",
        "            res = get_result_edge(g,a,b)\n",
        "            if res !=0 :\n",
        "                g2.add_edge(a,b,weight = res)"
      ]
    },
    {
      "cell_type": "markdown",
      "source": [
        "2.5 Graph Deatils of Compressed Graph"
      ],
      "metadata": {
        "id": "SZ-4qYpnJM3E"
      }
    },
    {
      "cell_type": "code",
      "execution_count": null,
      "metadata": {
        "id": "H-HWSc8Qd9tP",
        "colab": {
          "base_uri": "https://localhost:8080/"
        },
        "outputId": "61338d42-c128-49fd-964f-36c9d9dce6f2"
      },
      "outputs": [
        {
          "output_type": "stream",
          "name": "stdout",
          "text": [
            "DiGraph with 799 nodes and 5358 edges\n"
          ]
        }
      ],
      "source": [
        "print(g2)"
      ]
    },
    {
      "cell_type": "markdown",
      "source": [
        "2.6 Consider 2-cycles and 3-cycles"
      ],
      "metadata": {
        "id": "ALp9rXCGJnUg"
      }
    },
    {
      "cell_type": "code",
      "execution_count": null,
      "metadata": {
        "id": "Aqe6HvtV5APf"
      },
      "outputs": [],
      "source": [
        "#checks two similarity between 2 edges in 2 cycles\n",
        "def check_2_similarity(g2,a): \n",
        "    u,v = a[0],a[1]\n",
        "    s1,s2 = g2[u][v]['weight'] , g2[v][u]['weight']\n",
        "    factor = max([s1,s2])\n",
        "\n",
        "    s1,s2 = s1/factor,s2/factor\n",
        "    if abs(s1-s2) <= 0.15:\n",
        "        return True\n",
        "    else:\n",
        "        return False\n",
        "    return False\n",
        "\n",
        "#checks two similarites between nodes ion 3 cycles\n",
        "def side_2_similar(g2,u,v,w):\n",
        "    s1,s2,s3 = g2[u][v]['weight'] , g2[v][w]['weight'] , g2[w][u]['weight']\n",
        "    factor = max([s1,s2,s3])\n",
        "    s1,s2,s3 = s1/factor,s2/factor,s3/factor\n",
        "    m = min([s1,s2,s3])\n",
        "    if  m <= 0.15:\n",
        "        if m == s1:\n",
        "            return [v,w,u],(u,v)\n",
        "        elif m == s2:\n",
        "            return [w,u,v],(v,w)\n",
        "        else:\n",
        "            return [u,v,w],(w,u)\n",
        "    else:\n",
        "        return False,[]\n",
        "\n",
        "#removing duplicate cycles present in the graph\n",
        "def remove_duplicate_cycles(A):\n",
        "    B = [sorted(a) for a in sorted(A)]\n",
        "    res1 = [list(tupl) for tupl in {tuple(item) for item in B }]\n",
        "    res = []\n",
        "    for a in res1:\n",
        "        if a in A:\n",
        "            res.append(a)\n",
        "        else:\n",
        "            for b in A:\n",
        "                if sorted(b) == sorted(a):\n",
        "                    res.append(b)\n",
        "                    break\n",
        "    return res\n",
        "\n",
        "#removing reciprocality between 3 cycles\n",
        "def remove_three_cycles(g2,g3,res_cycles):\n",
        "    res_cycles = [a for a in res_cycles if len(a) == 3]\n",
        "    res_cycles = remove_duplicate_cycles(res_cycles)\n",
        "    non_fraud_edges = []\n",
        "    for a in res_cycles:\n",
        "        try:\n",
        "            u,v,w = a[0],a[1],a[2]\n",
        "            res,not_edge = side_2_similar(g2,u,v,w)\n",
        "            non_fraud_edges.append(not_edge)\n",
        "            if res:\n",
        "                if not g3.has_edge(res[0],res[1]):\n",
        "                    g3.add_edge(res[0],res[1],weight=g2[res[0]][res[1]]['weight'])\n",
        "                if not g3.has_edge(res[1],res[2]) :\n",
        "                    g3.add_edge(res[1],res[2],weight=g2[res[1]][res[2]]['weight'])\n",
        "            else:\n",
        "                if not g3.has_edge(u,v) and (u,v) not in non_fraud_edges:\n",
        "                    g3.add_edge(u,v,weight=g2[u][v]['weight'])\n",
        "                if not g3.has_edge(v,w) and (v,w) not in non_fraud_edges:\n",
        "                    g3.add_edge(v,w,weight=g2[v][w]['weight'])\n",
        "                if not g3.has_edge(w,u) and (w,u) not in non_fraud_edges:\n",
        "                    g3.add_edge(w,u,weight=g2[w][u]['weight'])\n",
        "        except:\n",
        "            continue\n",
        "    return g3\n",
        "\n",
        "#removing 2 cycles\n",
        "def remove_two_cycles(g2):\n",
        "    g3 = nx.Graph()\n",
        "    g3.add_nodes_from(g2.nodes())\n",
        "    res_cycles = list(nx.simple_cycles(g2,length_bound=3))\n",
        "    res_cycles = [a for a in res_cycles if len(a) <= 3]\n",
        "    res_cycles = sorted(res_cycles,key = lambda a : len(a))\n",
        "    for a in res_cycles:\n",
        "        try:\n",
        "            if len(a) == 2:\n",
        "                if check_2_similarity(g2,a) and not g3.has_edge(a[0],a[1]):\n",
        "                    g3.add_edge(a[0],a[1],weight=g2[a[0]][a[1]]['weight'])\n",
        "        except:\n",
        "            continue\n",
        "    return g3,res_cycles\n",
        "\n",
        "#remove sigle edges present in the undirected\n",
        "def remove_single_edges(g):\n",
        "    for a in g.nodes():\n",
        "        neigh = list(g.neighbors(a))\n",
        "        if len(neigh) == 1:\n",
        "            g.remove_edge(a,neigh[0])\n",
        "    return g"
      ]
    },
    {
      "cell_type": "markdown",
      "source": [
        "2.8 Generate reduced graph (after considering only 2-cycles)"
      ],
      "metadata": {
        "id": "KJ_RL1jxKThJ"
      }
    },
    {
      "cell_type": "code",
      "execution_count": null,
      "metadata": {
        "id": "WPWbWSa9EJ-t",
        "colab": {
          "base_uri": "https://localhost:8080/"
        },
        "outputId": "ff0e70a6-a8f2-4a6b-80a6-9bb4b7d8c819"
      },
      "outputs": [
        {
          "output_type": "stream",
          "name": "stdout",
          "text": [
            "Graph with 799 nodes and 20 edges\n"
          ]
        }
      ],
      "source": [
        "g3,res_cycles = remove_two_cycles(g2)\n",
        "print(g3)"
      ]
    },
    {
      "cell_type": "markdown",
      "source": [
        "2.9 Generate reduced graph (after considering 3-cycles)"
      ],
      "metadata": {
        "id": "dmak6StsK_hG"
      }
    },
    {
      "cell_type": "code",
      "execution_count": null,
      "metadata": {
        "id": "W2160pRsrB0R",
        "colab": {
          "base_uri": "https://localhost:8080/"
        },
        "outputId": "b47fd69b-eac4-4222-b5d3-6766e68dac74"
      },
      "outputs": [
        {
          "output_type": "stream",
          "name": "stdout",
          "text": [
            "Graph with 799 nodes and 972 edges\n"
          ]
        }
      ],
      "source": [
        "g4 = remove_three_cycles(g2,g3,res_cycles)\n",
        "print(g4)"
      ]
    },
    {
      "cell_type": "markdown",
      "source": [
        "2.10 Remove non-scammers"
      ],
      "metadata": {
        "id": "QajWsLf3LimD"
      }
    },
    {
      "cell_type": "code",
      "execution_count": null,
      "metadata": {
        "id": "2PRNUTMiPe-1",
        "colab": {
          "base_uri": "https://localhost:8080/"
        },
        "outputId": "51e6bf79-2cf2-4a3f-e7b9-b94eba906fc6"
      },
      "outputs": [
        {
          "output_type": "stream",
          "name": "stdout",
          "text": [
            "Graph with 799 nodes and 957 edges\n"
          ]
        }
      ],
      "source": [
        "k1=remove_single_edges(g4)\n",
        "print(k1)"
      ]
    },
    {
      "cell_type": "code",
      "source": [
        "k = nx.Graph()\n",
        "res_nodes = []\n",
        "for a in k1.nodes():\n",
        "    if list(k1.neighbors(a)) != []:\n",
        "        res_nodes.append(a)\n",
        "k.add_nodes_from(res_nodes)\n",
        "k.add_edges_from(k1.edges())\n",
        "print(k)"
      ],
      "metadata": {
        "colab": {
          "base_uri": "https://localhost:8080/"
        },
        "id": "uGnVQqLVJurD",
        "outputId": "e1fc2577-5856-47ca-da20-78fb1a4e4e1f"
      },
      "execution_count": null,
      "outputs": [
        {
          "output_type": "stream",
          "name": "stdout",
          "text": [
            "Graph with 163 nodes and 957 edges\n"
          ]
        }
      ]
    },
    {
      "cell_type": "markdown",
      "source": [
        "# 3. Node 2 Vec"
      ],
      "metadata": {
        "id": "kz3S1-NXLpXh"
      }
    },
    {
      "cell_type": "code",
      "execution_count": null,
      "metadata": {
        "id": "C5IexITX8PrZ",
        "colab": {
          "base_uri": "https://localhost:8080/",
          "height": 66,
          "referenced_widgets": [
            "2c8ea057c24a4869bd0da09cffe62028",
            "f05cb2436b3f43e6a6e18c3e09896c25",
            "186f5e9e634b4119bd68e3b0ede29bce",
            "978683e1defc4f988d8dd72a7a14d92e",
            "954b9209b1d644ed87c51a2961e6a4b1",
            "54601e125dc94246b6ae40c89289d105",
            "3c3971f46c6f46518adef8ab950bc6eb",
            "7663bd8829774faebeceea5775bd4387",
            "c855fe7329ed45968b35557ba449a886",
            "2556209f922a430c9ebc5c2b7478e256",
            "45f7aeccd4174ceb99fbb6b486ee3dc5"
          ]
        },
        "outputId": "507197e6-44fd-4fa6-d925-3638e6a358c5"
      },
      "outputs": [
        {
          "output_type": "display_data",
          "data": {
            "text/plain": [
              "Computing transition probabilities:   0%|          | 0/163 [00:00<?, ?it/s]"
            ],
            "application/vnd.jupyter.widget-view+json": {
              "version_major": 2,
              "version_minor": 0,
              "model_id": "2c8ea057c24a4869bd0da09cffe62028"
            }
          },
          "metadata": {}
        },
        {
          "output_type": "stream",
          "name": "stderr",
          "text": [
            "Generating walks (CPU: 1): 100%|██████████| 400/400 [00:39<00:00, 10.10it/s]\n"
          ]
        }
      ],
      "source": [
        "np.random.seed(3)\n",
        "\n",
        "node2vec = n2v(k, dimensions=4, walk_length=10, num_walks=400)\n",
        "model = node2vec.fit(window=3, min_count=1)\n",
        "emb_df = (pd.DataFrame([model.wv.get_vector(str(n)) for n in k.nodes()],index = k.nodes))"
      ]
    },
    {
      "cell_type": "markdown",
      "source": [
        "#4. PCA for Visualisation"
      ],
      "metadata": {
        "id": "QpjmeFXGLwrU"
      }
    },
    {
      "cell_type": "code",
      "execution_count": null,
      "metadata": {
        "id": "F6XTBn7Banw4"
      },
      "outputs": [],
      "source": [
        "def get_pca(df,n1):\n",
        "    pca = PCA(n_components = n1, random_state = 7)\n",
        "    return pca.fit_transform(df)"
      ]
    },
    {
      "cell_type": "code",
      "execution_count": null,
      "metadata": {
        "id": "nvPuJtgQ8PrZ"
      },
      "outputs": [],
      "source": [
        "from mpl_toolkits import mplot3d\n",
        "import numpy as np\n",
        "import matplotlib.pyplot as plt\n",
        "\n",
        "def get_3dplot(data,labels):\n",
        "    z = data[:,2]\n",
        "    x = data[:,0]\n",
        "    y = data[:,1]\n",
        "    fig = plt.figure(figsize = (10, 7))\n",
        "    ax = plt.axes(projection =\"3d\")\n",
        "    scatter = ax.scatter3D(x, y, z, c = labels)\n",
        "    legend1 = ax.legend(*scatter.legend_elements(),\n",
        "                    loc=\"lower left\", title=\"Classes\")\n",
        "    ax.add_artist(legend1)\n",
        "    plt.show()\n"
      ]
    },
    {
      "cell_type": "markdown",
      "source": [
        "# 5. Calculate eps through elbow method"
      ],
      "metadata": {
        "id": "UoZYTwXTMSXW"
      }
    },
    {
      "cell_type": "code",
      "execution_count": null,
      "metadata": {
        "id": "5IPbWRgtWq7X",
        "colab": {
          "base_uri": "https://localhost:8080/",
          "height": 447
        },
        "outputId": "ed09dccf-2028-4cc9-b7c4-e4da0b6893a0"
      },
      "outputs": [
        {
          "output_type": "stream",
          "name": "stdout",
          "text": [
            "Optimum eps: 0.7\n"
          ]
        },
        {
          "output_type": "display_data",
          "data": {
            "text/plain": [
              "<Figure size 640x480 with 1 Axes>"
            ],
            "image/png": "[encoded data removed]"
          },
          "metadata": {}
        }
      ],
      "source": [
        "# calculate k-distance graph\n",
        "k_neighbor = 5\n",
        "nbrs = NearestNeighbors(n_neighbors=k_neighbor).fit(emb_df)\n",
        "distances, indices = nbrs.kneighbors(emb_df)\n",
        "k_distance = distances[:,-1]/3\n",
        "\n",
        "# sort the k-distances and plot the curve\n",
        "k_distance.sort()\n",
        "plt.plot(k_distance)\n",
        "\n",
        "# identify the elbow point\n",
        "knee = np.diff(k_distance, 2)\n",
        "epsilon = knee.argmax() + 2  \n",
        "\n",
        "# add 2 because of zero-based indexing\n",
        "eps = k_distance[epsilon]\n",
        "\n",
        "# Consider one decimal place\n",
        "eps = int(eps*10)/10\n",
        "print(f\"Optimum eps: {eps}\")"
      ]
    },
    {
      "cell_type": "markdown",
      "source": [
        "# 6. DBSCAN"
      ],
      "metadata": {
        "id": "EiHJoDQFMezv"
      }
    },
    {
      "cell_type": "code",
      "execution_count": null,
      "metadata": {
        "id": "J-j3lHn48Pra",
        "colab": {
          "base_uri": "https://localhost:8080/",
          "height": 593
        },
        "outputId": "c447dfa9-f3c8-4744-b4de-43b4690e9890"
      },
      "outputs": [
        {
          "output_type": "stream",
          "name": "stdout",
          "text": [
            "Counter({0: 116, -1: 27, 2: 12, 1: 8})\n"
          ]
        },
        {
          "output_type": "display_data",
          "data": {
            "text/plain": [
              "<Figure size 1000x700 with 1 Axes>"
            ],
            "image/png": "[encoded data removed]"
          },
          "metadata": {}
        }
      ],
      "source": [
        "np.random.seed(2)\n",
        "\n",
        "#applying DBSCAN on dataset\n",
        "from sklearn.cluster import DBSCAN\n",
        "from collections import Counter\n",
        "\n",
        "cluster = DBSCAN(min_samples=6,eps=eps).fit(get_pca(emb_df,3))\n",
        "print(Counter(cluster.labels_))\n",
        "get_3dplot(get_pca(emb_df,3),cluster.labels_)"
      ]
    },
    {
      "cell_type": "markdown",
      "source": [
        "# 7. Output"
      ],
      "metadata": {
        "id": "qOoGqW1oMmJ4"
      }
    },
    {
      "cell_type": "markdown",
      "source": [
        "verifying scammers by backtracking the original graph"
      ],
      "metadata": {
        "id": "0-IzpzWxTga8"
      }
    },
    {
      "cell_type": "code",
      "execution_count": null,
      "metadata": {
        "id": "L7IJLlnMXU2M",
        "colab": {
          "base_uri": "https://localhost:8080/"
        },
        "outputId": "ff788452-6e32-4521-be0a-9b2a13d18496"
      },
      "outputs": [
        {
          "output_type": "stream",
          "name": "stdout",
          "text": [
            "  Size of Clusters\tNumber of Mismatches\n",
            "\t116\t\t\t0\n",
            "\t8\t\t\t0\n",
            "\t12\t\t\t0\n",
            "\t27\t\t\t0\n"
          ]
        }
      ],
      "source": [
        "res_scammers = []\n",
        "res_non_scammers = []\n",
        "\n",
        "#getting nodes from each clusters\n",
        "for a in set(cluster.labels_):\n",
        "    res = np.array(k.nodes())[cluster.labels_ == a]\n",
        "    if len(res) <= 150:\n",
        "        res_scammers.append(sorted(res))\n",
        "    else:\n",
        "        res_non_scammers.append(sorted(res))\n",
        "\n",
        "print(f'  Size of Clusters\\tNumber of Mismatches')\n",
        "#backtracking to original graph\n",
        "for nodes in res_scammers:\n",
        "    res = []\n",
        "    cnt = 0\n",
        "    for a in nodes:\n",
        "        res.extend(list(g2.neighbors(a)))\n",
        "    res1 = sorted(set(res))\n",
        "    for a in nodes:\n",
        "        if a not in res1:\n",
        "            cnt += 1\n",
        "    print(f'\\t{len(nodes)}\\t\\t\\t{cnt}')"
      ]
    },
    {
      "cell_type": "code",
      "source": [],
      "metadata": {
        "id": "s3RDc7Q_Wu8u"
      },
      "execution_count": null,
      "outputs": []
    }
  ],
  "metadata": {
    "colab": {
      "provenance": [],
      "toc_visible": true
    },
    "gpuClass": "standard",
    "kernelspec": {
      "display_name": "Python 3",
      "name": "python3"
    },
    "language_info": {
      "codemirror_mode": {
        "name": "ipython",
        "version": 3
      },
      "file_extension": ".py",
      "mimetype": "text/x-python",
      "name": "python",
      "nbconvert_exporter": "python",
      "pygments_lexer": "ipython3",
      "version": "3.10.10"
    },
    "widgets": {
      "application/vnd.jupyter.widget-state+json": {
        "2c8ea057c24a4869bd0da09cffe62028": {
          "model_module": "@jupyter-widgets/controls",
          "model_name": "HBoxModel",
          "model_module_version": "1.5.0",
          "state": {
            "_dom_classes": [],
            "_model_module": "@jupyter-widgets/controls",
            "_model_module_version": "1.5.0",
            "_model_name": "HBoxModel",
            "_view_count": null,
            "_view_module": "@jupyter-widgets/controls",
            "_view_module_version": "1.5.0",
            "_view_name": "HBoxView",
            "box_style": "",
            "children": [
              "IPY_MODEL_f05cb2436b3f43e6a6e18c3e09896c25",
              "IPY_MODEL_186f5e9e634b4119bd68e3b0ede29bce",
              "IPY_MODEL_978683e1defc4f988d8dd72a7a14d92e"
            ],
            "layout": "IPY_MODEL_954b9209b1d644ed87c51a2961e6a4b1"
          }
        },
        "f05cb2436b3f43e6a6e18c3e09896c25": {
          "model_module": "@jupyter-widgets/controls",
          "model_name": "HTMLModel",
          "model_module_version": "1.5.0",
          "state": {
            "_dom_classes": [],
            "_model_module": "@jupyter-widgets/controls",
            "_model_module_version": "1.5.0",
            "_model_name": "HTMLModel",
            "_view_count": null,
            "_view_module": "@jupyter-widgets/controls",
            "_view_module_version": "1.5.0",
            "_view_name": "HTMLView",
            "description": "",
            "description_tooltip": null,
            "layout": "IPY_MODEL_54601e125dc94246b6ae40c89289d105",
            "placeholder": "​",
            "style": "IPY_MODEL_3c3971f46c6f46518adef8ab950bc6eb",
            "value": "Computing transition probabilities: 100%"
          }
        },
        "186f5e9e634b4119bd68e3b0ede29bce": {
          "model_module": "@jupyter-widgets/controls",
          "model_name": "FloatProgressModel",
          "model_module_version": "1.5.0",
          "state": {
            "_dom_classes": [],
            "_model_module": "@jupyter-widgets/controls",
            "_model_module_version": "1.5.0",
            "_model_name": "FloatProgressModel",
            "_view_count": null,
            "_view_module": "@jupyter-widgets/controls",
            "_view_module_version": "1.5.0",
            "_view_name": "ProgressView",
            "bar_style": "success",
            "description": "",
            "description_tooltip": null,
            "layout": "IPY_MODEL_7663bd8829774faebeceea5775bd4387",
            "max": 163,
            "min": 0,
            "orientation": "horizontal",
            "style": "IPY_MODEL_c855fe7329ed45968b35557ba449a886",
            "value": 163
          }
        },
        "978683e1defc4f988d8dd72a7a14d92e": {
          "model_module": "@jupyter-widgets/controls",
          "model_name": "HTMLModel",
          "model_module_version": "1.5.0",
          "state": {
            "_dom_classes": [],
            "_model_module": "@jupyter-widgets/controls",
            "_model_module_version": "1.5.0",
            "_model_name": "HTMLModel",
            "_view_count": null,
            "_view_module": "@jupyter-widgets/controls",
            "_view_module_version": "1.5.0",
            "_view_name": "HTMLView",
            "description": "",
            "description_tooltip": null,
            "layout": "IPY_MODEL_2556209f922a430c9ebc5c2b7478e256",
            "placeholder": "​",
            "style": "IPY_MODEL_45f7aeccd4174ceb99fbb6b486ee3dc5",
            "value": " 163/163 [00:00&lt;00:00, 302.44it/s]"
          }
        },
        "954b9209b1d644ed87c51a2961e6a4b1": {
          "model_module": "@jupyter-widgets/base",
          "model_name": "LayoutModel",
          "model_module_version": "1.2.0",
          "state": {
            "_model_module": "@jupyter-widgets/base",
            "_model_module_version": "1.2.0",
            "_model_name": "LayoutModel",
            "_view_count": null,
            "_view_module": "@jupyter-widgets/base",
            "_view_module_version": "1.2.0",
            "_view_name": "LayoutView",
            "align_content": null,
            "align_items": null,
            "align_self": null,
            "border": null,
            "bottom": null,
            "display": null,
            "flex": null,
            "flex_flow": null,
            "grid_area": null,
            "grid_auto_columns": null,
            "grid_auto_flow": null,
            "grid_auto_rows": null,
            "grid_column": null,
            "grid_gap": null,
            "grid_row": null,
            "grid_template_areas": null,
            "grid_template_columns": null,
            "grid_template_rows": null,
            "height": null,
            "justify_content": null,
            "justify_items": null,
            "left": null,
            "margin": null,
            "max_height": null,
            "max_width": null,
            "min_height": null,
            "min_width": null,
            "object_fit": null,
            "object_position": null,
            "order": null,
            "overflow": null,
            "overflow_x": null,
            "overflow_y": null,
            "padding": null,
            "right": null,
            "top": null,
            "visibility": null,
            "width": null
          }
        },
        "54601e125dc94246b6ae40c89289d105": {
          "model_module": "@jupyter-widgets/base",
          "model_name": "LayoutModel",
          "model_module_version": "1.2.0",
          "state": {
            "_model_module": "@jupyter-widgets/base",
            "_model_module_version": "1.2.0",
            "_model_name": "LayoutModel",
            "_view_count": null,
            "_view_module": "@jupyter-widgets/base",
            "_view_module_version": "1.2.0",
            "_view_name": "LayoutView",
            "align_content": null,
            "align_items": null,
            "align_self": null,
            "border": null,
            "bottom": null,
            "display": null,
            "flex": null,
            "flex_flow": null,
            "grid_area": null,
            "grid_auto_columns": null,
            "grid_auto_flow": null,
            "grid_auto_rows": null,
            "grid_column": null,
            "grid_gap": null,
            "grid_row": null,
            "grid_template_areas": null,
            "grid_template_columns": null,
            "grid_template_rows": null,
            "height": null,
            "justify_content": null,
            "justify_items": null,
            "left": null,
            "margin": null,
            "max_height": null,
            "max_width": null,
            "min_height": null,
            "min_width": null,
            "object_fit": null,
            "object_position": null,
            "order": null,
            "overflow": null,
            "overflow_x": null,
            "overflow_y": null,
            "padding": null,
            "right": null,
            "top": null,
            "visibility": null,
            "width": null
          }
        },
        "3c3971f46c6f46518adef8ab950bc6eb": {
          "model_module": "@jupyter-widgets/controls",
          "model_name": "DescriptionStyleModel",
          "model_module_version": "1.5.0",
          "state": {
            "_model_module": "@jupyter-widgets/controls",
            "_model_module_version": "1.5.0",
            "_model_name": "DescriptionStyleModel",
            "_view_count": null,
            "_view_module": "@jupyter-widgets/base",
            "_view_module_version": "1.2.0",
            "_view_name": "StyleView",
            "description_width": ""
          }
        },
        "7663bd8829774faebeceea5775bd4387": {
          "model_module": "@jupyter-widgets/base",
          "model_name": "LayoutModel",
          "model_module_version": "1.2.0",
          "state": {
            "_model_module": "@jupyter-widgets/base",
            "_model_module_version": "1.2.0",
            "_model_name": "LayoutModel",
            "_view_count": null,
            "_view_module": "@jupyter-widgets/base",
            "_view_module_version": "1.2.0",
            "_view_name": "LayoutView",
            "align_content": null,
            "align_items": null,
            "align_self": null,
            "border": null,
            "bottom": null,
            "display": null,
            "flex": null,
            "flex_flow": null,
            "grid_area": null,
            "grid_auto_columns": null,
            "grid_auto_flow": null,
            "grid_auto_rows": null,
            "grid_column": null,
            "grid_gap": null,
            "grid_row": null,
            "grid_template_areas": null,
            "grid_template_columns": null,
            "grid_template_rows": null,
            "height": null,
            "justify_content": null,
            "justify_items": null,
            "left": null,
            "margin": null,
            "max_height": null,
            "max_width": null,
            "min_height": null,
            "min_width": null,
            "object_fit": null,
            "object_position": null,
            "order": null,
            "overflow": null,
            "overflow_x": null,
            "overflow_y": null,
            "padding": null,
            "right": null,
            "top": null,
            "visibility": null,
            "width": null
          }
        },
        "c855fe7329ed45968b35557ba449a886": {
          "model_module": "@jupyter-widgets/controls",
          "model_name": "ProgressStyleModel",
          "model_module_version": "1.5.0",
          "state": {
            "_model_module": "@jupyter-widgets/controls",
            "_model_module_version": "1.5.0",
            "_model_name": "ProgressStyleModel",
            "_view_count": null,
            "_view_module": "@jupyter-widgets/base",
            "_view_module_version": "1.2.0",
            "_view_name": "StyleView",
            "bar_color": null,
            "description_width": ""
          }
        },
        "2556209f922a430c9ebc5c2b7478e256": {
          "model_module": "@jupyter-widgets/base",
          "model_name": "LayoutModel",
          "model_module_version": "1.2.0",
          "state": {
            "_model_module": "@jupyter-widgets/base",
            "_model_module_version": "1.2.0",
            "_model_name": "LayoutModel",
            "_view_count": null,
            "_view_module": "@jupyter-widgets/base",
            "_view_module_version": "1.2.0",
            "_view_name": "LayoutView",
            "align_content": null,
            "align_items": null,
            "align_self": null,
            "border": null,
            "bottom": null,
            "display": null,
            "flex": null,
            "flex_flow": null,
            "grid_area": null,
            "grid_auto_columns": null,
            "grid_auto_flow": null,
            "grid_auto_rows": null,
            "grid_column": null,
            "grid_gap": null,
            "grid_row": null,
            "grid_template_areas": null,
            "grid_template_columns": null,
            "grid_template_rows": null,
            "height": null,
            "justify_content": null,
            "justify_items": null,
            "left": null,
            "margin": null,
            "max_height": null,
            "max_width": null,
            "min_height": null,
            "min_width": null,
            "object_fit": null,
            "object_position": null,
            "order": null,
            "overflow": null,
            "overflow_x": null,
            "overflow_y": null,
            "padding": null,
            "right": null,
            "top": null,
            "visibility": null,
            "width": null
          }
        },
        "45f7aeccd4174ceb99fbb6b486ee3dc5": {
          "model_module": "@jupyter-widgets/controls",
          "model_name": "DescriptionStyleModel",
          "model_module_version": "1.5.0",
          "state": {
            "_model_module": "@jupyter-widgets/controls",
            "_model_module_version": "1.5.0",
            "_model_name": "DescriptionStyleModel",
            "_view_count": null,
            "_view_module": "@jupyter-widgets/base",
            "_view_module_version": "1.2.0",
            "_view_name": "StyleView",
            "description_width": ""
          }
        }
      }
    }
  },
  "nbformat": 4,
  "nbformat_minor": 0
}